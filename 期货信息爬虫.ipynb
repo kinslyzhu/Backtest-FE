{
 "cells": [
  {
   "cell_type": "code",
   "execution_count": 497,
   "metadata": {
    "collapsed": true
   },
   "outputs": [],
   "source": [
    "import pandas as pd\n",
    "import numpy as np\n",
    "import matplotlib.pyplot as plt\n",
    "import unicodedata\n",
    "%matplotlib inline"
   ]
  },
  {
   "cell_type": "code",
   "execution_count": 546,
   "metadata": {
    "collapsed": true
   },
   "outputs": [],
   "source": [
    "from bs4 import BeautifulSoup\n",
    "from urllib.request import urlopen"
   ]
  },
  {
   "cell_type": "code",
   "execution_count": 561,
   "metadata": {
    "collapsed": false,
    "scrolled": false
   },
   "outputs": [],
   "source": [
    "html = urlopen(\"http://www.htfc.com/main/a/20170619/80000072.shtml\")\n",
    "bsObj = BeautifulSoup(html.read(),'lxml')\n"
   ]
  },
  {
   "cell_type": "code",
   "execution_count": 570,
   "metadata": {
    "collapsed": false,
    "scrolled": true
   },
   "outputs": [],
   "source": [
    "newData = pd.DataFrame()\n",
    "i = 1\n",
    "flag = 0\n",
    "tickdict = []\n",
    "newData = pd.DataFrame()\n",
    "nameList = bsObj.findAll(\"span\", {\"style\":\"FONT-FAMILY: 仿宋,仿宋_GB2312\"})\n",
    "if nameList == []:\n",
    "    #print(1)\n",
    "    nameList = bsObj.findAll(\"span\", {\"style\":\"font-family:仿宋,仿宋_GB2312\"})\n",
    "# if nameList == []:\n",
    "#     print(1)\n",
    "#     nameList = bsObj.findAll(\"span\", {\"style\":\"font-family:仿宋,仿宋_GB2312\"})\n",
    "for name in nameList:\n",
    "    #print(name.get_text().strip(),1)\n",
    "    #if name.get_text().strip() == \"上海期货交易所:\" or flag == 1: #or (name.get_text().strip()[0] == \"铜\" or \"\"):\n",
    "        #if name.get_text().strip() == \"上海期货交易所:\":\n",
    "            #flag = 1\n",
    "    if name.get_text().strip() not in [\"上海期货交易所:\",\"郑州商品交易所:\",\n",
    "                               \"大连商品交易所（交割月份的涨跌停板幅度为上一交易日结算价的6%）:\",\n",
    "                               \"大连商品交易所:\",\"中国金融期货交易所:\"]:\n",
    "        m = name.get_text().strip()\n",
    "        if m.strip() not in ['','5','10']:\n",
    "            m = unicodedata.normalize(\"NFKD\", m) ## https://stackoverflow.com/questions/10993612/python-removing-xa0-from-string\n",
    "            m.split(maxsplit=1)\n",
    "            #print(m)\n",
    "            tickdict.append(m)\n",
    "\n",
    "NewData = pd.DataFrame(tickdict)\n",
    "NewData = NewData[len(NewData) - 102:].reset_index(drop=True) #因为期货总共51个品种，所以我们仅仅需要下面的102行\n",
    "\n",
    "s = NewData[0].apply(lambda x: x.split(':'))\n",
    "##df = pd.DataFrame(s)\n",
    "NewData['Code'],NewData['Limit'] = zip(*NewData[0].apply(lambda x: x.split(':',maxsplit = 1)))\n",
    "\n",
    "NewData[\"Comments\"] = \"\"\n",
    "NewData['Name'] = \"\"\n",
    "\n",
    "for i in range(len(NewData)):\n",
    "    NewData['Limit'].iloc[i] = NewData['Limit'].iloc[i].strip()\n",
    "\n",
    "for i in range(len(NewData)):\n",
    "    NewData['Name'].iloc[i] = (NewData['Code'].iloc[i])[:-2].strip().replace(' ','')\n",
    "    NewData['Code'].iloc[i] = (NewData['Code'].iloc[i])[-2:].strip()\n",
    "    ##print((NewData['Tick'].iloc[i])[:-2])\n",
    "    if len(NewData['Limit'].iloc[i]) > 6:\n",
    "        NewData['Limit'].iloc[i],NewData['Comments'].iloc[i] = NewData['Limit'].iloc[i].split('(',maxsplit = 1)\n",
    "        #if len(NewData['C'].iloc[i]) > 2:\n",
    "        NewData['Comments'].iloc[i] = NewData['Comments'].iloc[i].replace('(','').replace(')','')\n",
    "del NewData[0]\n",
    "\n",
    "\n",
    "NewData['Margin'] = \"\"\n",
    "NewData['Margin Comments'] = \"\"\n",
    "# for item in list(NewData['Name']):\n",
    "# #NewData[NewData['Name'] == item]\n",
    "# #df.loc[df['column_name'] == some_value]\n",
    "# NewData.loc[NewData['Name'] == item])\n",
    "list_tick = NewData.set_index('Name').index.get_duplicates()\n",
    "#NewData[NewData['Name'] == list_tick[0]].Limit.index[]\n",
    "for i in range(len(list_tick)):\n",
    "    pos = NewData[NewData['Name'] == list_tick[i]].Limit.index[0]\n",
    "    \n",
    "    NewData['Margin'].iloc[pos] = NewData[NewData['Name'] == list_tick[i]].Limit.values[1]\n",
    "    NewData['Margin Comments'].iloc[pos] = NewData[NewData['Name'] == list_tick[i]].Comments.values[1]\n",
    "NewData = NewData[['Name', 'Code', 'Limit','Comments','Margin', 'Margin Comments']]\n",
    "NewData = NewData.iloc[:49]\n",
    "NewData.to_csv('DailyContractsInformation.csv',encoding='utf_8_sig')"
   ]
  }
 ],
 "metadata": {
  "kernelspec": {
   "display_name": "Python 3",
   "language": "python",
   "name": "python3"
  },
  "language_info": {
   "codemirror_mode": {
    "name": "ipython",
    "version": 3
   },
   "file_extension": ".py",
   "mimetype": "text/x-python",
   "name": "python",
   "nbconvert_exporter": "python",
   "pygments_lexer": "ipython3",
   "version": "3.6.0"
  }
 },
 "nbformat": 4,
 "nbformat_minor": 2
}
